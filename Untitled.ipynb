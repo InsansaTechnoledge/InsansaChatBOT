{
 "cells": [
  {
   "cell_type": "code",
   "execution_count": null,
   "id": "26a3b790-a77e-4baa-bd2e-4f7769385615",
   "metadata": {},
   "outputs": [
    {
     "name": "stdout",
     "output_type": "stream",
     "text": [
      "Enter your query (or type 'exit' to quit):\n"
     ]
    },
    {
     "name": "stdin",
     "output_type": "stream",
     "text": [
      "Query:  JEE\n"
     ]
    },
    {
     "name": "stdout",
     "output_type": "stream",
     "text": [
      "Response:\n",
      "{\n",
      "    \"exam_details\": {\n",
      "        \"name\": \"jee\",\n",
      "        \"url\": \"https://jee.example.com\",\n",
      "        \"start_date\": \"2025-01-15\",\n",
      "        \"end_date\": \"2025-01-20\",\n",
      "        \"apply_link\": \"https://jee.example.com/apply\"\n",
      "    }\n",
      "}\n"
     ]
    },
    {
     "name": "stdin",
     "output_type": "stream",
     "text": [
      "Query:  Give the information about jee\n"
     ]
    },
    {
     "name": "stdout",
     "output_type": "stream",
     "text": [
      "Response:\n",
      "{\n",
      "    \"exam_details\": {\n",
      "        \"name\": \"jee\",\n",
      "        \"url\": \"https://jee.example.com\",\n",
      "        \"start_date\": \"2025-01-15\",\n",
      "        \"end_date\": \"2025-01-20\",\n",
      "        \"apply_link\": \"https://jee.example.com/apply\"\n",
      "    }\n",
      "}\n"
     ]
    },
    {
     "name": "stdin",
     "output_type": "stream",
     "text": [
      "Query:  starting date of jee\n"
     ]
    },
    {
     "name": "stdout",
     "output_type": "stream",
     "text": [
      "Response:\n",
      "{\n",
      "    \"start_date\": \"2025-01-15\",\n",
      "    \"end_date\": \"2025-01-20\"\n",
      "}\n"
     ]
    },
    {
     "name": "stdin",
     "output_type": "stream",
     "text": [
      "Query:  ending dates of jee\n"
     ]
    },
    {
     "name": "stdout",
     "output_type": "stream",
     "text": [
      "Response:\n",
      "{\n",
      "    \"start_date\": \"2025-01-15\",\n",
      "    \"end_date\": \"2025-01-20\"\n",
      "}\n"
     ]
    },
    {
     "name": "stdin",
     "output_type": "stream",
     "text": [
      "Query:  starting date of upsc \n"
     ]
    },
    {
     "name": "stdout",
     "output_type": "stream",
     "text": [
      "Response:\n",
      "{\n",
      "    \"response\": \"Exam not found. Please check the name and try again.\"\n",
      "}\n"
     ]
    },
    {
     "name": "stdin",
     "output_type": "stream",
     "text": [
      "Query:  Link of jee\n"
     ]
    },
    {
     "name": "stdout",
     "output_type": "stream",
     "text": [
      "Response:\n",
      "{\n",
      "    \"link_details\": {\n",
      "        \"url\": \"https://jee.example.com\",\n",
      "        \"apply_link\": \"https://jee.example.com/apply\"\n",
      "    }\n",
      "}\n"
     ]
    },
    {
     "name": "stdin",
     "output_type": "stream",
     "text": [
      "Query:  I want information about joint entrance exam\n"
     ]
    },
    {
     "name": "stdout",
     "output_type": "stream",
     "text": [
      "Response:\n",
      "{\n",
      "    \"response\": \"Exam not found. Please check the name and try again.\"\n",
      "}\n"
     ]
    },
    {
     "name": "stdin",
     "output_type": "stream",
     "text": [
      "Query:  information about jee mains\n"
     ]
    },
    {
     "name": "stdout",
     "output_type": "stream",
     "text": [
      "Response:\n",
      "{\n",
      "    \"exam_details\": {\n",
      "        \"name\": \"jee\",\n",
      "        \"url\": \"https://jee.example.com\",\n",
      "        \"start_date\": \"2025-01-15\",\n",
      "        \"end_date\": \"2025-01-20\",\n",
      "        \"apply_link\": \"https://jee.example.com/apply\"\n",
      "    }\n",
      "}\n"
     ]
    },
    {
     "name": "stdin",
     "output_type": "stream",
     "text": [
      "Query:  start date of jee\n"
     ]
    },
    {
     "name": "stdout",
     "output_type": "stream",
     "text": [
      "Response:\n",
      "{\n",
      "    \"start_date\": \"2025-01-15\",\n",
      "    \"end_date\": \"2025-01-20\"\n",
      "}\n"
     ]
    },
    {
     "name": "stdin",
     "output_type": "stream",
     "text": [
      "Query:  end date of jee\n"
     ]
    },
    {
     "name": "stdout",
     "output_type": "stream",
     "text": [
      "Response:\n",
      "{\n",
      "    \"end_date\": \"2025-01-20\"\n",
      "}\n"
     ]
    },
    {
     "name": "stdin",
     "output_type": "stream",
     "text": [
      "Query:  when is neet starting\n"
     ]
    },
    {
     "name": "stdout",
     "output_type": "stream",
     "text": [
      "Response:\n",
      "{\n",
      "    \"exam_details\": {\n",
      "        \"name\": \"neet\",\n",
      "        \"url\": \"https://neet.example.com\",\n",
      "        \"start_date\": \"2025-02-01\",\n",
      "        \"end_date\": \"2025-02-10\",\n",
      "        \"apply_link\": \"https://neet.example.com/apply\"\n",
      "    }\n",
      "}\n"
     ]
    },
    {
     "name": "stdin",
     "output_type": "stream",
     "text": [
      "Query:  when is neet exam\n"
     ]
    },
    {
     "name": "stdout",
     "output_type": "stream",
     "text": [
      "Response:\n",
      "{\n",
      "    \"exam_details\": {\n",
      "        \"name\": \"neet\",\n",
      "        \"url\": \"https://neet.example.com\",\n",
      "        \"start_date\": \"2025-02-01\",\n",
      "        \"end_date\": \"2025-02-10\",\n",
      "        \"apply_link\": \"https://neet.example.com/apply\"\n",
      "    }\n",
      "}\n"
     ]
    }
   ],
   "source": [
    "# Import necessary libraries\n",
    "import spacy\n",
    "import json\n",
    "\n",
    "# Load the spaCy NLP model\n",
    "nlp = spacy.load(\"en_core_web_sm\")\n",
    "\n",
    "# Example data for exam details\n",
    "exam_details = {\n",
    "    \"jee\": {\n",
    "        \"start_date\": \"2025-01-15\",\n",
    "        \"end_date\": \"2025-01-20\",\n",
    "        \"url\": \"https://jee.example.com\",\n",
    "        \"apply\": \"https://jee.example.com/apply\"\n",
    "    },\n",
    "    \"neet\": {\n",
    "        \"start_date\": \"2025-02-01\",\n",
    "        \"end_date\": \"2025-02-10\",\n",
    "        \"url\": \"https://neet.example.com\",\n",
    "        \"apply\": \"https://neet.example.com/apply\"\n",
    "    }\n",
    "}\n",
    "\n",
    "def get_exam_details(user_query):\n",
    "    user_query = user_query.strip().lower()  # Trim spaces and make lowercase\n",
    "    \n",
    "    # Use spaCy to process the query\n",
    "    doc = nlp(user_query)\n",
    "    extracted_keywords = [token.text for token in doc if token.pos_ in (\"NOUN\", \"PROPN\", \"ADJ\")]\n",
    "\n",
    "    # Join extracted keywords to form a search phrase\n",
    "    search_phrase = \" \".join(extracted_keywords)\n",
    "\n",
    "    for exam, details in exam_details.items():\n",
    "        # Check if the exam name matches the search phrase\n",
    "        if exam.lower() in search_phrase:\n",
    "            response = {}\n",
    "            if \"start date\" in search_phrase or \"starting date\" in search_phrase:\n",
    "                response[\"start_date\"] = details[\"start_date\"]\n",
    "            elif \"end date\" in search_phrase or \"ending date\" in search_phrase:\n",
    "                response[\"end_date\"] = details[\"end_date\"]\n",
    "            elif \"link\" in search_phrase:\n",
    "                response[\"link_details\"] = {\n",
    "                    \"url\": details[\"url\"],\n",
    "                    \"apply_link\": details[\"apply\"]\n",
    "                }\n",
    "            elif \"date\" in search_phrase:\n",
    "                response[\"start_date\"] = details[\"start_date\"]\n",
    "                response[\"end_date\"] = details[\"end_date\"]\n",
    "            else:\n",
    "                response[\"exam_details\"] = {\n",
    "                    \"name\": exam,\n",
    "                    \"url\": details[\"url\"],\n",
    "                    \"start_date\": details[\"start_date\"],\n",
    "                    \"end_date\": details[\"end_date\"],\n",
    "                    \"apply_link\": details[\"apply\"]\n",
    "                }\n",
    "\n",
    "            return json.dumps(response, indent=4)  # Return the response as formatted JSON\n",
    "\n",
    "    return json.dumps({\"response\": \"Exam not found. Please check the name and try again.\"}, indent=4)\n",
    "\n",
    "# Example user interaction\n",
    "def main():\n",
    "    print(\"Enter your query (or type 'exit' to quit):\")\n",
    "    while True:\n",
    "        user_query = input(\"Query: \")\n",
    "        if user_query.lower() == \"exit\":\n",
    "            print(\"Exiting...\")\n",
    "            break\n",
    "        response = get_exam_details(user_query)\n",
    "        print(\"Response:\")\n",
    "        print(response)\n",
    "\n",
    "# Run the interactive session\n",
    "main()\n"
   ]
  },
  {
   "cell_type": "code",
   "execution_count": 1,
   "id": "6e87a2b8-b62f-4ff5-996b-631c212fd20d",
   "metadata": {},
   "outputs": [],
   "source": [
    "import pandas as pd\n",
    "\n",
    "# Sample data for exams and their dates\n",
    "data = {\n",
    "    'exam_name': ['XYZ Exam', 'ABC Test', 'Maths Exam', 'Science Exam'],\n",
    "    'exam_date': ['2025-02-25', '2025-03-01', '2025-03-05', '2025-04-10'],\n",
    "    'start_date': ['2025-02-25', '2025-03-01', '2025-03-05', '2025-04-10'],\n",
    "    'end_date': ['2025-02-28', '2025-03-05', '2025-03-07', '2025-04-15'],\n",
    "}\n",
    "\n",
    "# Create a DataFrame\n",
    "df = pd.DataFrame(data)"
   ]
  },
  {
   "cell_type": "code",
   "execution_count": 2,
   "id": "7c6db555-0263-4965-8501-b38f066b8ba3",
   "metadata": {},
   "outputs": [],
   "source": [
    "import spacy\n",
    "\n",
    "# Load spaCy's English model\n",
    "nlp = spacy.load(\"en_core_web_sm\")\n",
    "\n",
    "# Function to extract date entities from text\n",
    "def extract_dates(text):\n",
    "    doc = nlp(text)\n",
    "    dates = [ent.text for ent in doc.ents if ent.label_ == \"DATE\"]\n",
    "    return dates if dates else None"
   ]
  },
  {
   "cell_type": "code",
   "execution_count": 3,
   "id": "fee671ef-c742-4336-82ee-79ee65929d36",
   "metadata": {},
   "outputs": [],
   "source": [
    "from sklearn.feature_extraction.text import TfidfVectorizer\n",
    "from sklearn.neighbors import NearestNeighbors\n",
    "\n",
    "# Extract the exam names for classification\n",
    "exam_names = df['exam_name'].tolist()\n",
    "\n",
    "# Vectorize exam names for similarity matching\n",
    "vectorizer = TfidfVectorizer()\n",
    "X = vectorizer.fit_transform(exam_names)\n",
    "\n",
    "# Use Nearest Neighbors for finding the closest match\n",
    "model = NearestNeighbors(n_neighbors=1, metric='cosine')\n",
    "model.fit(X)\n",
    "\n",
    "# Function to predict the exam based on user input\n",
    "def predict_exam(query):\n",
    "    query_vec = vectorizer.transform([query])\n",
    "    distance, index = model.kneighbors(query_vec)\n",
    "    return df.iloc[index[0][0]]  # Return the closest match"
   ]
  },
  {
   "cell_type": "code",
   "execution_count": 4,
   "id": "94dd5088-8181-4858-bdfc-6d4e493758fb",
   "metadata": {},
   "outputs": [],
   "source": [
    "def get_exam_details(query):\n",
    "    # Extract dates from the user's query (if available)\n",
    "    extracted_dates = extract_dates(query)\n",
    "    \n",
    "    # If dates are extracted, return them directly\n",
    "    if extracted_dates:\n",
    "        return {\"dates\": extracted_dates}\n",
    "\n",
    "    # Predict the closest exam based on the user query\n",
    "    exam_details = predict_exam(query)\n",
    "    \n",
    "    # Return the result in the desired format\n",
    "    result = {\n",
    "        \"exam_name\": exam_details['exam_name'],\n",
    "        \"exam_date\": exam_details['exam_date'],\n",
    "        \"start_date\": exam_details['start_date'],\n",
    "        \"end_date\": exam_details['end_date']\n",
    "    }\n",
    "    return result"
   ]
  },
  {
   "cell_type": "code",
   "execution_count": 6,
   "id": "624343c8-600d-44e2-b8a1-097c747b69f8",
   "metadata": {},
   "outputs": [
    {
     "name": "stdout",
     "output_type": "stream",
     "text": [
      "User Query: When is the XYZ Exam?\n",
      "Predicted Output: {'exam_name': 'XYZ Exam', 'exam_date': '2025-02-25', 'start_date': '2025-02-25', 'end_date': '2025-02-28'}\n",
      "-----------\n",
      "User Query: What are the start and end dates of the Maths Exam?\n",
      "Predicted Output: {'exam_name': 'Maths Exam', 'exam_date': '2025-03-05', 'start_date': '2025-03-05', 'end_date': '2025-03-07'}\n",
      "-----------\n",
      "User Query: Tell me about the Science Exam schedule\n",
      "Predicted Output: {'exam_name': 'Science Exam', 'exam_date': '2025-04-10', 'start_date': '2025-04-10', 'end_date': '2025-04-15'}\n",
      "-----------\n",
      "User Query: When is the ABC Test happening?\n",
      "Predicted Output: {'exam_name': 'ABC Test', 'exam_date': '2025-03-01', 'start_date': '2025-03-01', 'end_date': '2025-03-05'}\n",
      "-----------\n",
      "User Query: starting date of XYZ Exam\n",
      "Predicted Output: {'exam_name': 'XYZ Exam', 'exam_date': '2025-02-25', 'start_date': '2025-02-25', 'end_date': '2025-02-28'}\n",
      "-----------\n"
     ]
    }
   ],
   "source": [
    "# Test cases\n",
    "user_queries = [\n",
    "    \"When is the XYZ Exam?\",\n",
    "    \"What are the start and end dates of the Maths Exam?\",\n",
    "    \"Tell me about the Science Exam schedule\",\n",
    "    \"When is the ABC Test happening?\",\n",
    "    \"starting date of XYZ Exam\"\n",
    "]\n",
    "\n",
    "# Process each query\n",
    "for query in user_queries:\n",
    "    result = get_exam_details(query)\n",
    "    print(f\"User Query: {query}\")\n",
    "    print(f\"Predicted Output: {result}\")\n",
    "    print(\"-----------\")"
   ]
  },
  {
   "cell_type": "code",
   "execution_count": 7,
   "id": "676a53dc-9ae5-4f63-89d0-608ca4dbb91d",
   "metadata": {},
   "outputs": [
    {
     "ename": "ValueError",
     "evalue": "Found input variables with inconsistent numbers of samples: [8, 6]",
     "output_type": "error",
     "traceback": [
      "\u001b[1;31m---------------------------------------------------------------------------\u001b[0m",
      "\u001b[1;31mValueError\u001b[0m                                Traceback (most recent call last)",
      "Cell \u001b[1;32mIn[7], line 23\u001b[0m\n\u001b[0;32m     17\u001b[0m pipeline \u001b[38;5;241m=\u001b[39m Pipeline([\n\u001b[0;32m     18\u001b[0m     (\u001b[38;5;124m'\u001b[39m\u001b[38;5;124mvectorizer\u001b[39m\u001b[38;5;124m'\u001b[39m, CountVectorizer()),  \u001b[38;5;66;03m# Convert text to count-based features\u001b[39;00m\n\u001b[0;32m     19\u001b[0m     (\u001b[38;5;124m'\u001b[39m\u001b[38;5;124mclassifier\u001b[39m\u001b[38;5;124m'\u001b[39m, MultinomialNB())     \u001b[38;5;66;03m# Naive Bayes classifier\u001b[39;00m\n\u001b[0;32m     20\u001b[0m ])\n\u001b[0;32m     22\u001b[0m \u001b[38;5;66;03m# Train the model with the provided training data\u001b[39;00m\n\u001b[1;32m---> 23\u001b[0m pipeline\u001b[38;5;241m.\u001b[39mfit(training_phrases, responses)\n\u001b[0;32m     25\u001b[0m \u001b[38;5;66;03m# Function to classify input and return the appropriate response\u001b[39;00m\n\u001b[0;32m     26\u001b[0m \u001b[38;5;28;01mdef\u001b[39;00m \u001b[38;5;21mget_welcome_response\u001b[39m(input_text):\n",
      "File \u001b[1;32m~\\AppData\\Roaming\\Python\\Python311\\site-packages\\sklearn\\base.py:1473\u001b[0m, in \u001b[0;36m_fit_context.<locals>.decorator.<locals>.wrapper\u001b[1;34m(estimator, *args, **kwargs)\u001b[0m\n\u001b[0;32m   1466\u001b[0m     estimator\u001b[38;5;241m.\u001b[39m_validate_params()\n\u001b[0;32m   1468\u001b[0m \u001b[38;5;28;01mwith\u001b[39;00m config_context(\n\u001b[0;32m   1469\u001b[0m     skip_parameter_validation\u001b[38;5;241m=\u001b[39m(\n\u001b[0;32m   1470\u001b[0m         prefer_skip_nested_validation \u001b[38;5;129;01mor\u001b[39;00m global_skip_validation\n\u001b[0;32m   1471\u001b[0m     )\n\u001b[0;32m   1472\u001b[0m ):\n\u001b[1;32m-> 1473\u001b[0m     \u001b[38;5;28;01mreturn\u001b[39;00m fit_method(estimator, \u001b[38;5;241m*\u001b[39margs, \u001b[38;5;241m*\u001b[39m\u001b[38;5;241m*\u001b[39mkwargs)\n",
      "File \u001b[1;32m~\\AppData\\Roaming\\Python\\Python311\\site-packages\\sklearn\\pipeline.py:473\u001b[0m, in \u001b[0;36mPipeline.fit\u001b[1;34m(self, X, y, **params)\u001b[0m\n\u001b[0;32m    471\u001b[0m     \u001b[38;5;28;01mif\u001b[39;00m \u001b[38;5;28mself\u001b[39m\u001b[38;5;241m.\u001b[39m_final_estimator \u001b[38;5;241m!=\u001b[39m \u001b[38;5;124m\"\u001b[39m\u001b[38;5;124mpassthrough\u001b[39m\u001b[38;5;124m\"\u001b[39m:\n\u001b[0;32m    472\u001b[0m         last_step_params \u001b[38;5;241m=\u001b[39m routed_params[\u001b[38;5;28mself\u001b[39m\u001b[38;5;241m.\u001b[39msteps[\u001b[38;5;241m-\u001b[39m\u001b[38;5;241m1\u001b[39m][\u001b[38;5;241m0\u001b[39m]]\n\u001b[1;32m--> 473\u001b[0m         \u001b[38;5;28mself\u001b[39m\u001b[38;5;241m.\u001b[39m_final_estimator\u001b[38;5;241m.\u001b[39mfit(Xt, y, \u001b[38;5;241m*\u001b[39m\u001b[38;5;241m*\u001b[39mlast_step_params[\u001b[38;5;124m\"\u001b[39m\u001b[38;5;124mfit\u001b[39m\u001b[38;5;124m\"\u001b[39m])\n\u001b[0;32m    475\u001b[0m \u001b[38;5;28;01mreturn\u001b[39;00m \u001b[38;5;28mself\u001b[39m\n",
      "File \u001b[1;32m~\\AppData\\Roaming\\Python\\Python311\\site-packages\\sklearn\\base.py:1473\u001b[0m, in \u001b[0;36m_fit_context.<locals>.decorator.<locals>.wrapper\u001b[1;34m(estimator, *args, **kwargs)\u001b[0m\n\u001b[0;32m   1466\u001b[0m     estimator\u001b[38;5;241m.\u001b[39m_validate_params()\n\u001b[0;32m   1468\u001b[0m \u001b[38;5;28;01mwith\u001b[39;00m config_context(\n\u001b[0;32m   1469\u001b[0m     skip_parameter_validation\u001b[38;5;241m=\u001b[39m(\n\u001b[0;32m   1470\u001b[0m         prefer_skip_nested_validation \u001b[38;5;129;01mor\u001b[39;00m global_skip_validation\n\u001b[0;32m   1471\u001b[0m     )\n\u001b[0;32m   1472\u001b[0m ):\n\u001b[1;32m-> 1473\u001b[0m     \u001b[38;5;28;01mreturn\u001b[39;00m fit_method(estimator, \u001b[38;5;241m*\u001b[39margs, \u001b[38;5;241m*\u001b[39m\u001b[38;5;241m*\u001b[39mkwargs)\n",
      "File \u001b[1;32m~\\AppData\\Roaming\\Python\\Python311\\site-packages\\sklearn\\naive_bayes.py:732\u001b[0m, in \u001b[0;36m_BaseDiscreteNB.fit\u001b[1;34m(self, X, y, sample_weight)\u001b[0m\n\u001b[0;32m    711\u001b[0m \u001b[38;5;129m@_fit_context\u001b[39m(prefer_skip_nested_validation\u001b[38;5;241m=\u001b[39m\u001b[38;5;28;01mTrue\u001b[39;00m)\n\u001b[0;32m    712\u001b[0m \u001b[38;5;28;01mdef\u001b[39;00m \u001b[38;5;21mfit\u001b[39m(\u001b[38;5;28mself\u001b[39m, X, y, sample_weight\u001b[38;5;241m=\u001b[39m\u001b[38;5;28;01mNone\u001b[39;00m):\n\u001b[0;32m    713\u001b[0m \u001b[38;5;250m    \u001b[39m\u001b[38;5;124;03m\"\"\"Fit Naive Bayes classifier according to X, y.\u001b[39;00m\n\u001b[0;32m    714\u001b[0m \n\u001b[0;32m    715\u001b[0m \u001b[38;5;124;03m    Parameters\u001b[39;00m\n\u001b[1;32m   (...)\u001b[0m\n\u001b[0;32m    730\u001b[0m \u001b[38;5;124;03m        Returns the instance itself.\u001b[39;00m\n\u001b[0;32m    731\u001b[0m \u001b[38;5;124;03m    \"\"\"\u001b[39;00m\n\u001b[1;32m--> 732\u001b[0m     X, y \u001b[38;5;241m=\u001b[39m \u001b[38;5;28mself\u001b[39m\u001b[38;5;241m.\u001b[39m_check_X_y(X, y)\n\u001b[0;32m    733\u001b[0m     _, n_features \u001b[38;5;241m=\u001b[39m X\u001b[38;5;241m.\u001b[39mshape\n\u001b[0;32m    735\u001b[0m     labelbin \u001b[38;5;241m=\u001b[39m LabelBinarizer()\n",
      "File \u001b[1;32m~\\AppData\\Roaming\\Python\\Python311\\site-packages\\sklearn\\naive_bayes.py:578\u001b[0m, in \u001b[0;36m_BaseDiscreteNB._check_X_y\u001b[1;34m(self, X, y, reset)\u001b[0m\n\u001b[0;32m    576\u001b[0m \u001b[38;5;28;01mdef\u001b[39;00m \u001b[38;5;21m_check_X_y\u001b[39m(\u001b[38;5;28mself\u001b[39m, X, y, reset\u001b[38;5;241m=\u001b[39m\u001b[38;5;28;01mTrue\u001b[39;00m):\n\u001b[0;32m    577\u001b[0m \u001b[38;5;250m    \u001b[39m\u001b[38;5;124;03m\"\"\"Validate X and y in fit methods.\"\"\"\u001b[39;00m\n\u001b[1;32m--> 578\u001b[0m     \u001b[38;5;28;01mreturn\u001b[39;00m \u001b[38;5;28mself\u001b[39m\u001b[38;5;241m.\u001b[39m_validate_data(X, y, accept_sparse\u001b[38;5;241m=\u001b[39m\u001b[38;5;124m\"\u001b[39m\u001b[38;5;124mcsr\u001b[39m\u001b[38;5;124m\"\u001b[39m, reset\u001b[38;5;241m=\u001b[39mreset)\n",
      "File \u001b[1;32m~\\AppData\\Roaming\\Python\\Python311\\site-packages\\sklearn\\base.py:650\u001b[0m, in \u001b[0;36mBaseEstimator._validate_data\u001b[1;34m(self, X, y, reset, validate_separately, cast_to_ndarray, **check_params)\u001b[0m\n\u001b[0;32m    648\u001b[0m         y \u001b[38;5;241m=\u001b[39m check_array(y, input_name\u001b[38;5;241m=\u001b[39m\u001b[38;5;124m\"\u001b[39m\u001b[38;5;124my\u001b[39m\u001b[38;5;124m\"\u001b[39m, \u001b[38;5;241m*\u001b[39m\u001b[38;5;241m*\u001b[39mcheck_y_params)\n\u001b[0;32m    649\u001b[0m     \u001b[38;5;28;01melse\u001b[39;00m:\n\u001b[1;32m--> 650\u001b[0m         X, y \u001b[38;5;241m=\u001b[39m check_X_y(X, y, \u001b[38;5;241m*\u001b[39m\u001b[38;5;241m*\u001b[39mcheck_params)\n\u001b[0;32m    651\u001b[0m     out \u001b[38;5;241m=\u001b[39m X, y\n\u001b[0;32m    653\u001b[0m \u001b[38;5;28;01mif\u001b[39;00m \u001b[38;5;129;01mnot\u001b[39;00m no_val_X \u001b[38;5;129;01mand\u001b[39;00m check_params\u001b[38;5;241m.\u001b[39mget(\u001b[38;5;124m\"\u001b[39m\u001b[38;5;124mensure_2d\u001b[39m\u001b[38;5;124m\"\u001b[39m, \u001b[38;5;28;01mTrue\u001b[39;00m):\n",
      "File \u001b[1;32m~\\AppData\\Roaming\\Python\\Python311\\site-packages\\sklearn\\utils\\validation.py:1320\u001b[0m, in \u001b[0;36mcheck_X_y\u001b[1;34m(X, y, accept_sparse, accept_large_sparse, dtype, order, copy, force_writeable, force_all_finite, ensure_2d, allow_nd, multi_output, ensure_min_samples, ensure_min_features, y_numeric, estimator)\u001b[0m\n\u001b[0;32m   1301\u001b[0m X \u001b[38;5;241m=\u001b[39m check_array(\n\u001b[0;32m   1302\u001b[0m     X,\n\u001b[0;32m   1303\u001b[0m     accept_sparse\u001b[38;5;241m=\u001b[39maccept_sparse,\n\u001b[1;32m   (...)\u001b[0m\n\u001b[0;32m   1315\u001b[0m     input_name\u001b[38;5;241m=\u001b[39m\u001b[38;5;124m\"\u001b[39m\u001b[38;5;124mX\u001b[39m\u001b[38;5;124m\"\u001b[39m,\n\u001b[0;32m   1316\u001b[0m )\n\u001b[0;32m   1318\u001b[0m y \u001b[38;5;241m=\u001b[39m _check_y(y, multi_output\u001b[38;5;241m=\u001b[39mmulti_output, y_numeric\u001b[38;5;241m=\u001b[39my_numeric, estimator\u001b[38;5;241m=\u001b[39mestimator)\n\u001b[1;32m-> 1320\u001b[0m check_consistent_length(X, y)\n\u001b[0;32m   1322\u001b[0m \u001b[38;5;28;01mreturn\u001b[39;00m X, y\n",
      "File \u001b[1;32m~\\AppData\\Roaming\\Python\\Python311\\site-packages\\sklearn\\utils\\validation.py:457\u001b[0m, in \u001b[0;36mcheck_consistent_length\u001b[1;34m(*arrays)\u001b[0m\n\u001b[0;32m    455\u001b[0m uniques \u001b[38;5;241m=\u001b[39m np\u001b[38;5;241m.\u001b[39munique(lengths)\n\u001b[0;32m    456\u001b[0m \u001b[38;5;28;01mif\u001b[39;00m \u001b[38;5;28mlen\u001b[39m(uniques) \u001b[38;5;241m>\u001b[39m \u001b[38;5;241m1\u001b[39m:\n\u001b[1;32m--> 457\u001b[0m     \u001b[38;5;28;01mraise\u001b[39;00m \u001b[38;5;167;01mValueError\u001b[39;00m(\n\u001b[0;32m    458\u001b[0m         \u001b[38;5;124m\"\u001b[39m\u001b[38;5;124mFound input variables with inconsistent numbers of samples: \u001b[39m\u001b[38;5;132;01m%r\u001b[39;00m\u001b[38;5;124m\"\u001b[39m\n\u001b[0;32m    459\u001b[0m         \u001b[38;5;241m%\u001b[39m [\u001b[38;5;28mint\u001b[39m(l) \u001b[38;5;28;01mfor\u001b[39;00m l \u001b[38;5;129;01min\u001b[39;00m lengths]\n\u001b[0;32m    460\u001b[0m     )\n",
      "\u001b[1;31mValueError\u001b[0m: Found input variables with inconsistent numbers of samples: [8, 6]"
     ]
    }
   ],
   "source": [
    "import nltk\n",
    "from sklearn.feature_extraction.text import CountVectorizer\n",
    "from sklearn.naive_bayes import MultinomialNB\n",
    "from sklearn.pipeline import Pipeline\n",
    "\n",
    "# Sample training data (training phrases and corresponding responses)\n",
    "training_phrases = [\n",
    "    \"Hello\", \"Hi\", \"How are you\", \"Good morning\", \"Good evening\", \"What is your name?\", \"Tell me a joke\",\n",
    "    \"What can you do?\", \"Help me with coding\", \"How to contact support?\"\n",
    "]\n",
    "\n",
    "responses = [\n",
    "    \"Hello, how can I help you?\", \"Hi, what can I do for you?\", \"I'm doing great, how about you?\",\n",
    "    \"Good morning! How can I assist?\", \"Good evening! How can I help?\", \"I'm a chatbot created to assist you.\",\n",
    "    \"Why don't skeletons fight each other? They don't have the guts!\", \"I can help with coding, advice, or answering questions.\",\n",
    "    \"I can help you with many tasks like coding, troubleshooting, or giving information.\", \"You can contact support at support@example.com.\"\n",
    "]\n",
    "\n",
    "# Create a simple NLP pipeline with a vectorizer and a classifier\n",
    "pipeline = Pipeline([\n",
    "    ('vectorizer', CountVectorizer()),    # Convert text to a vector of counts\n",
    "    ('classifier', MultinomialNB())       # Use Naive Bayes for classification\n",
    "])\n",
    "\n",
    "# Train the model\n",
    "pipeline.fit(training_phrases, responses)\n",
    "\n",
    "# Predicting the response for new input\n",
    "def get_response(input_text):\n",
    "    return pipeline.predict([input_text])[0]\n",
    "\n",
    "# Testing the model\n",
    "test_input = input(\"What you want to ask\")\n",
    "print(\"Response:\", get_response(test_input))"
   ]
  },
  {
   "cell_type": "code",
   "execution_count": null,
   "id": "c02a3ddc-27ed-4db6-bf9a-2c400e9b008d",
   "metadata": {},
   "outputs": [],
   "source": []
  },
  {
   "cell_type": "code",
   "execution_count": null,
   "id": "1c06cf66-e6ca-4ad6-a381-5722ec77a11b",
   "metadata": {},
   "outputs": [],
   "source": []
  }
 ],
 "metadata": {
  "kernelspec": {
   "display_name": "Python 3 (ipykernel)",
   "language": "python",
   "name": "python3"
  },
  "language_info": {
   "codemirror_mode": {
    "name": "ipython",
    "version": 3
   },
   "file_extension": ".py",
   "mimetype": "text/x-python",
   "name": "python",
   "nbconvert_exporter": "python",
   "pygments_lexer": "ipython3",
   "version": "3.11.10"
  }
 },
 "nbformat": 4,
 "nbformat_minor": 5
}
